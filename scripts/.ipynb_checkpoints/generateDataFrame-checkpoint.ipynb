{
 "cells": [
  {
   "cell_type": "code",
   "execution_count": 31,
   "metadata": {},
   "outputs": [],
   "source": [
    "# lectura de los puntos característicos\n",
    "#paths a los distintos directorios\n",
    "import numpy as np\n",
    "import os.path\n",
    "\n",
    "\n",
    "pathPoints = \"../allPoints\"\n",
    "pathDir = \"../d_paths.txt\"\n",
    "pathAligns = \"../align\"\n",
    "pathData = \"../dataWords\"\n",
    "\n",
    "extensionData = \".jpg.data\"\n",
    "extAlign = \".align\"\n",
    "nframe = \"frame\"\n",
    "lossData = \"loss.txt\"\n",
    "\n",
    "num_lines = 33000\n",
    "\n",
    "id = 0\n"
   ]
  },
  {
   "cell_type": "code",
   "execution_count": 32,
   "metadata": {},
   "outputs": [],
   "source": [
    "def getContentAlign(path):        \n",
    "    with open(path) as f:\n",
    "        lines = [line.split() for line in f]\n",
    "    \n",
    "    lines.pop()\n",
    "    lines.pop(0)\n",
    "    \n",
    "    for line in lines:\n",
    "        line[0] = str( int(line[0])/1000 )\n",
    "        line[1] = str( int(line[1])/1000 )\n",
    "        \n",
    "    return lines   \n",
    "    "
   ]
  },
  {
   "cell_type": "code",
   "execution_count": 33,
   "metadata": {},
   "outputs": [],
   "source": [
    "def createMatrix( key, params ):    \n",
    "    print 'for the \\\"' + key + '\\\" file...'\n",
    "    for line in params:\n",
    "        start = int(line[0])\n",
    "        finish = int(line[1])\n",
    "        word = line[2] \n",
    "        global id        \n",
    "        path = pathPoints + \"/\" + key + \"_\" + nframe + \"s/\" + nframe + str(start) + extensionData\n",
    "        data_verify = getPoints(path)\n",
    "        \n",
    "        if data_verify == []:\n",
    "            f_loss = open(\"../\" + lossData, \"aw+\")\n",
    "            value = f_loss.readline()\n",
    "            \n",
    "            if not value:\n",
    "                value = value.rstrip('\\n')              \n",
    "                \n",
    "            if not key == value:\n",
    "                f_loss.write(key + \"\\n\")\n",
    "            f_loss.close()            \n",
    "            continue;\n",
    "        else:   \n",
    "            all_points = np.array(data_verify)\n",
    "            \n",
    "            for i in range(start + 1, finish):\n",
    "                path = pathPoints + \"/\" + key + \"_\" + nframe + \"s/\" + nframe + str(i) + extensionData            \n",
    "                data_verify = getPoints(path)\n",
    "                \n",
    "                if data_verify == []:\n",
    "                    print \"No se pudo cargar: {0}\".format(path)\n",
    "                    continue;\n",
    "                parcial = np.array(data_verify)\n",
    "                all_points = np.concatenate((all_points, parcial) , axis = 1 )\n",
    "            \n",
    "            data = np.asarray(all_points)        \n",
    "            path_save = pathData + \"/\" + word + \"/\" + word + \"_\" + str( id ) + \".csv\"           \n",
    "            np.savetxt( path_save, data, fmt=\"%d\", delimiter=\",\")\n",
    "            \n",
    "    id += 1\n",
    "    if id%500 == 0:        \n",
    "        perc = (float(id)/num_lines) * 100\n",
    "        print '+++++++++++++++++++++++++++++++++++++++++++++++++++++++++++++++++++++++++++++++++'\n",
    "        print (str(id) + \" de \" + str(num_lines) + \" archivos procesados... \" + str(perc) + \"%\") \n",
    "        print '+++++++++++++++++++++++++++++++++++++++++++++++++++++++++++++++++++++++++++++++++'\n",
    "        \n",
    "    "
   ]
  },
  {
   "cell_type": "code",
   "execution_count": 34,
   "metadata": {},
   "outputs": [],
   "source": [
    "def getPoints(path):\n",
    "    point_arr = []\n",
    "    try:\n",
    "        f_frame = open(path, 'r')\n",
    "        points = (line for i, line in enumerate(f_frame) if i>=48)\n",
    "\n",
    "        for point in points:\n",
    "            point_arr.append( point.rstrip('\\r\\n').split(',') )\n",
    "\n",
    "        for point in point_arr:\n",
    "            point[0] = int(point[0])\n",
    "            point[1] = int(point[1])\n",
    "\n",
    "        f_frame.close()\n",
    "    except IOError as (errno, strerror):\n",
    "        print \"Error E/S ({0}): {1}, {2}\".format(errno, strerror, path)\n",
    "        point_arr = []\n",
    "    \n",
    "    return point_arr\n"
   ]
  },
  {
   "cell_type": "code",
   "execution_count": 35,
   "metadata": {},
   "outputs": [],
   "source": [
    "#p_align = pathAligns + '/' + 'bbwd4s' + extAlign\n",
    "\n",
    "#cont_align = getContentAlign(p_align)\n",
    "#print cont_align\n",
    "#createMatrix(line_str, cont_align)"
   ]
  },
  {
   "cell_type": "code",
   "execution_count": null,
   "metadata": {},
   "outputs": [],
   "source": [
    "f_dir = open(pathDir)\n",
    "\n",
    "for i in range(num_lines):\n",
    "    line_str = f_dir.readline()\n",
    "    line_str = line_str.rstrip('\\n')    \n",
    "    \n",
    "    p_align = pathAligns + '/' + line_str + extAlign\n",
    "    \n",
    "    cont_align = getContentAlign(p_align)\n",
    "    \n",
    "    createMatrix(line_str, cont_align)\n",
    " "
   ]
  },
  {
   "cell_type": "code",
   "execution_count": null,
   "metadata": {},
   "outputs": [],
   "source": []
  }
 ],
 "metadata": {
  "kernelspec": {
   "display_name": "Python 2",
   "language": "python",
   "name": "python2"
  },
  "language_info": {
   "codemirror_mode": {
    "name": "ipython",
    "version": 2
   },
   "file_extension": ".py",
   "mimetype": "text/x-python",
   "name": "python",
   "nbconvert_exporter": "python",
   "pygments_lexer": "ipython2",
   "version": "2.7.15"
  }
 },
 "nbformat": 4,
 "nbformat_minor": 2
}
